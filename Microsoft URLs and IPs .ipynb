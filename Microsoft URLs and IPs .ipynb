{
 "cells": [
  {
   "cell_type": "markdown",
   "id": "f18a3bf4",
   "metadata": {},
   "source": [
    "## Code from Microsoft Site \n",
    "#### https://docs.microsoft.com/en-us/microsoft-365/enterprise/microsoft-365-ip-web-service?view=o365-worldwide\n",
    "#### IP Addresses are Sorted Correctly"
   ]
  },
  {
   "cell_type": "code",
   "execution_count": null,
   "id": "5bc0e042",
   "metadata": {},
   "outputs": [],
   "source": [
    "import json\n",
    "from pathlib import Path\n",
    "import urllib.request\n",
    "import uuid\n",
    "import ipaddress\n"
   ]
  },
  {
   "cell_type": "code",
   "execution_count": null,
   "id": "9c8f6b29",
   "metadata": {},
   "outputs": [],
   "source": [
    "# helper to call the webservice and parse the response\n",
    "def webApiGet(methodName, instanceName, clientRequestId):\n",
    "    ws = \"https://endpoints.office.com\"\n",
    "    requestPath = f\"{ws}/{methodName}/{instanceName}?clientRequestId={clientRequestId}\"\n",
    "    request = urllib.request.Request(requestPath)\n",
    "    with urllib.request.urlopen(request) as response:\n",
    "        return json.loads(response.read().decode())\n"
   ]
  },
  {
   "cell_type": "code",
   "execution_count": null,
   "id": "5060d899",
   "metadata": {},
   "outputs": [],
   "source": [
    "datapath = Path('endpoints_clientid_latestversion.txt')\n",
    "# fetch client ID and version if data exists; otherwise create new file\n",
    "if datapath.exists():\n",
    "    with open(datapath, 'r') as fin:\n",
    "        clientRequestId = fin.readline().strip()\n",
    "        latestVersion = fin.readline().strip()\n",
    "else:\n",
    "    clientRequestId = str(uuid.uuid4())\n",
    "    latestVersion = '0000000000'\n",
    "    with open(datapath, 'w') as fout:\n",
    "        fout.write(clientRequestId + '\\n' + latestVersion)\n"
   ]
  },
  {
   "cell_type": "code",
   "execution_count": null,
   "id": "709f5a98",
   "metadata": {},
   "outputs": [],
   "source": [
    "# call version method to check the latest version, and pull new data if version number is different\n",
    "\n",
    "version = webApiGet('version', 'Worldwide', clientRequestId)\n",
    "\n",
    "if version['latest'] > latestVersion:\n",
    "    print('\\nNew version of Office 365 worldwide commercial service instance endpoints detected')\n",
    "\n",
    "    # write the new version number to the data file\n",
    "    with open(datapath, 'w') as fout:\n",
    "        fout.write(clientRequestId + '\\n' + version['latest'])\n",
    "\n",
    "    # invoke endpoints method to get the new data\n",
    "    endpointSets = webApiGet('endpoints', 'Worldwide', clientRequestId)\n",
    "\n",
    "    flatIps = []\n",
    "    for endpointSet in endpointSets:\n",
    "        if endpointSet['category'] in ('Optimize', 'Allow'):\n",
    "            ips = endpointSet['ips'] if 'ips' in endpointSet else []\n",
    "            ip4s = [ip for ip in ips if '.' in ip]\n",
    "            flatIps.extend([ip for ip in ip4s])\n",
    "\n",
    "    print('\\nIPv4 Firewall IP Address Ranges')\n",
    "    print(','.join(sorted(set(flatIps), key=ipaddress.IPv4Network)))                        # IP Address Sort\n",
    "\n",
    "    with open('IPv4 Firewall IP Address Ranges.txt', 'w') as output_file:\n",
    "        output_file.write('\\n'.join(sorted(set(flatIps), key=ipaddress.IPv4Network)))       # IP Address Seort\n",
    "\n",
    "    flatUrls = []\n",
    "    for endpointSet in endpointSets:\n",
    "        if endpointSet['category'] in ('Optimize', 'Allow'):\n",
    "            urls = endpointSet['urls'] if 'urls' in endpointSet else []\n",
    "            flatUrls.extend([url for url in urls])\n",
    "\n",
    "    print('\\nURLs for Proxy Server')\n",
    "    print(','.join(sorted(set(flatUrls))))\n",
    "\n",
    "    with open('URLs for Proxy Server.txt', 'w') as output_file:\n",
    "        output_file.write('\\n'.join(sorted(set(flatUrls))))\n",
    "\n",
    "else:\n",
    "    print('Office 365 worldwide commercial service instance endpoints are up-to-date')\n"
   ]
  }
 ],
 "metadata": {
  "kernelspec": {
   "display_name": "Python 3 (ipykernel)",
   "language": "python",
   "name": "python3"
  },
  "language_info": {
   "codemirror_mode": {
    "name": "ipython",
    "version": 3
   },
   "file_extension": ".py",
   "mimetype": "text/x-python",
   "name": "python",
   "nbconvert_exporter": "python",
   "pygments_lexer": "ipython3",
   "version": "3.9.12"
  }
 },
 "nbformat": 4,
 "nbformat_minor": 5
}
