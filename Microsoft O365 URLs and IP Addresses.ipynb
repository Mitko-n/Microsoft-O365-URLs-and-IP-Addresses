{
 "cells": [
  {
   "cell_type": "markdown",
   "id": "e29fb749-236a-4e27-9272-2ce9b86f49e9",
   "metadata": {},
   "source": [
    "# Download from Microsoft O365 domains, IP addresses and ports.\n",
    "Read JSON formated file to DICTION.\n",
    "Extract URLs and IP Addresses.\n",
    "Remove duplicates.\n",
    "Write in file."
   ]
  },
  {
   "cell_type": "code",
   "execution_count": null,
   "id": "a2c0b7f0-53e2-4b85-a4a3-17225d5291b5",
   "metadata": {},
   "outputs": [],
   "source": [
    "import requests\n",
    "import json\n",
    "import ipaddress\n"
   ]
  },
  {
   "cell_type": "code",
   "execution_count": null,
   "id": "8831ba6e",
   "metadata": {},
   "outputs": [],
   "source": [
    "url = \"https://endpoints.office.com/endpoints/worldwide?clientrequestid=b10c5ed1-bad1-445f-b386-b919946339a7\"\n",
    "r = requests.get(url, allow_redirects=True)\n",
    "data = json.loads(r.content)\n"
   ]
  },
  {
   "cell_type": "code",
   "execution_count": null,
   "id": "347c68c9",
   "metadata": {
    "vscode": {
     "languageId": "html"
    }
   },
   "outputs": [],
   "source": [
    "open(\"365.json\", \"wb\").write(r.content)\n",
    "\n",
    "f = open(\"365.json\")\n",
    "data = json.load(f)\n",
    "f.close()"
   ]
  },
  {
   "cell_type": "markdown",
   "id": "e86c511c",
   "metadata": {},
   "source": [
    "data"
   ]
  },
  {
   "cell_type": "code",
   "execution_count": null,
   "id": "53a17107",
   "metadata": {},
   "outputs": [],
   "source": [
    "# Categories\n",
    "cat = []\n",
    "for item in data:\n",
    "    if \"category\" in item and item[\"category\"] not in cat:\n",
    "        cat.append(item[\"category\"])\n",
    "\n",
    "cat\n"
   ]
  },
  {
   "cell_type": "code",
   "execution_count": null,
   "id": "1d616db1",
   "metadata": {},
   "outputs": [],
   "source": [
    "# ServiceArea\n",
    "service_area = []\n",
    "for item in data:\n",
    "    if \"serviceArea\" in item and item[\"serviceArea\"] not in service_area:\n",
    "        service_area.append(item[\"serviceArea\"])\n",
    "\n",
    "service_area\n"
   ]
  },
  {
   "cell_type": "code",
   "execution_count": null,
   "id": "5930dbb4",
   "metadata": {},
   "outputs": [],
   "source": [
    "# ServiceAreaNames\n",
    "service_area_name = []\n",
    "for item in data:\n",
    "    if \"serviceAreaDisplayName\" in item and item[\"serviceAreaDisplayName\"] not in service_area_name:\n",
    "        service_area_name.append(item[\"serviceAreaDisplayName\"])\n",
    "\n",
    "service_area_name\n"
   ]
  },
  {
   "cell_type": "markdown",
   "id": "0c227815",
   "metadata": {},
   "source": [
    "### Microsoft O365 URL's"
   ]
  },
  {
   "cell_type": "code",
   "execution_count": null,
   "id": "53129383",
   "metadata": {},
   "outputs": [],
   "source": [
    "url_required = []\n",
    "for item in data:\n",
    "    if \"urls\" in item and item[\"required\"] == True:\n",
    "        for n in item[\"urls\"]:\n",
    "            url_required.append(n)\n"
   ]
  },
  {
   "cell_type": "code",
   "execution_count": null,
   "id": "8f00fe9f",
   "metadata": {},
   "outputs": [],
   "source": [
    "url = []\n",
    "for item in data:\n",
    "    if \"urls\" in item and item[\"required\"] == True and item[\"category\"] in [\"Allow\", \"Optimize\"]:\n",
    "        for n in item[\"urls\"]:\n",
    "            url.append(n)\n"
   ]
  },
  {
   "cell_type": "code",
   "execution_count": null,
   "id": "352dfa4f",
   "metadata": {},
   "outputs": [],
   "source": [
    "file = open(\"url.txt\", \"w\")\n",
    "for items in url:\n",
    "    file.writelines(items + \"\\n\")\n",
    "file.close()\n"
   ]
  },
  {
   "cell_type": "code",
   "execution_count": null,
   "id": "06547676",
   "metadata": {},
   "outputs": [],
   "source": [
    "url_exchange = []\n",
    "for item in data:\n",
    "    if \"urls\" in item and item[\"required\"] == True and item[\"category\"] in [\"Allow\", \"Optimize\"] and \"Exchange\" in item[\"serviceArea\"]:\n",
    "        for n in item[\"urls\"]:\n",
    "            url_exchange.append(n)\n"
   ]
  },
  {
   "cell_type": "markdown",
   "id": "d01d2439",
   "metadata": {},
   "source": [
    "### Microsoft O365 IP Addresses"
   ]
  },
  {
   "cell_type": "code",
   "execution_count": null,
   "id": "2e0e118d",
   "metadata": {},
   "outputs": [],
   "source": [
    "# Extract Microsoft required IP Addresses\n",
    "ip_required = []\n",
    "for item in data:\n",
    "    if \"ips\" in item and item[\"required\"] == True:\n",
    "        for n in item[\"ips\"]:\n",
    "            ip_required.append(n)\n"
   ]
  },
  {
   "cell_type": "code",
   "execution_count": null,
   "id": "aa3e9844",
   "metadata": {},
   "outputs": [],
   "source": [
    "ip = []\n",
    "for item in data:\n",
    "    if \"ips\" in item and item[\"required\"] == True and item[\"category\"] in [\"Allow\", \"Optimize\"]:\n",
    "        for n in item[\"ips\"]:\n",
    "            ip.append(n)\n"
   ]
  },
  {
   "cell_type": "code",
   "execution_count": null,
   "id": "cea67fdf",
   "metadata": {},
   "outputs": [],
   "source": [
    "file = open(\"ip.txt\", \"w\")\n",
    "for items in ip:\n",
    "    file.writelines(items + \"\\n\")\n",
    "file.close()\n"
   ]
  },
  {
   "cell_type": "code",
   "execution_count": null,
   "id": "6dfb4a63",
   "metadata": {},
   "outputs": [],
   "source": [
    "# Extract Microsoft Teams IP Addresses\n",
    "ip_teams = []\n",
    "for item in data:\n",
    "    if \"ips\" in item and item[\"required\"] == True and item[\"category\"] in [\"Allow\", \"Optimize\"] and \"Teams\" in item[\"serviceAreaDisplayName\"]:\n",
    "        for n in item[\"ips\"]:\n",
    "            ip_teams.append(n)\n"
   ]
  },
  {
   "cell_type": "markdown",
   "id": "b96dd320",
   "metadata": {},
   "source": [
    "### ipv4 Addresses       "
   ]
  },
  {
   "cell_type": "code",
   "execution_count": null,
   "id": "eb57b14b",
   "metadata": {},
   "outputs": [],
   "source": [
    "# Remove IPv6 and Duplicates\n",
    "ipv4 = []\n",
    "for item in ip:\n",
    "    if not \"::\" in item and item not in ipv4:\n",
    "        ipv4.append(item)\n"
   ]
  },
  {
   "cell_type": "code",
   "execution_count": null,
   "id": "78ac36c8",
   "metadata": {
    "vscode": {
     "languageId": "html"
    }
   },
   "outputs": [],
   "source": [
    "ipv4 = [x for x  in ip if \"::\" not in x]    # Create List\n",
    "ipv4 = list(set(ipv4))                      # Remove duplicates\n",
    "ipv4"
   ]
  },
  {
   "cell_type": "code",
   "execution_count": null,
   "id": "a7420b8a",
   "metadata": {},
   "outputs": [],
   "source": [
    "ipv4 = sorted(ipv4, key=ipaddress.IPv4Network)"
   ]
  },
  {
   "cell_type": "code",
   "execution_count": null,
   "id": "8dcbd863",
   "metadata": {},
   "outputs": [],
   "source": [
    "#\n",
    "# IP Address -> xxx.xxx.xxx.xxx/xx\n",
    "#\n",
    "\n",
    "file = open(\"ipv4.txt\", \"w\")\n",
    "for items in ipv4:\n",
    "    file.writelines(items + \"\\n\")\n",
    "file.close()\n"
   ]
  },
  {
   "cell_type": "markdown",
   "id": "384beb55",
   "metadata": {},
   "source": [
    "### Still Developing"
   ]
  },
  {
   "cell_type": "code",
   "execution_count": null,
   "id": "8d14261d",
   "metadata": {},
   "outputs": [],
   "source": [
    "ipv4Split = [x.split(\"/\") for x in ipv4]\n",
    "\n",
    "ipv4Split\n"
   ]
  },
  {
   "cell_type": "code",
   "execution_count": null,
   "id": "91f37c8a",
   "metadata": {},
   "outputs": [],
   "source": [
    "for item in ipv4Split:\n",
    "    mask = [0, 0, 0, 0]\n",
    "    for i in range(int(item[1])):\n",
    "        mask[int(i / 8)] = mask[int(i / 8)] + (1 << (7 - i % 8))\n",
    "    item[1] = mask\n",
    "\n",
    "ipv4Split"
   ]
  },
  {
   "cell_type": "code",
   "execution_count": null,
   "id": "4fb57bd5",
   "metadata": {},
   "outputs": [],
   "source": [
    "for item in ipv4Split:\n",
    "    item[1] = \".\".join(str(e) for e in item[1])\n",
    "\n",
    "ipv4Split"
   ]
  },
  {
   "cell_type": "code",
   "execution_count": null,
   "id": "2b8e36dd",
   "metadata": {},
   "outputs": [],
   "source": [
    "#\n",
    "# IP Address -> xxx.xxx.xxx.xxx,xxx.xxx.xxx.xxx\n",
    "#\n",
    "\n",
    "file = open(\"ipv4Split.txt\", \"w\")\n",
    "for items in ipv4Split:\n",
    "    file.writelines(f\"{items[0]},{items[1]}\\n\")\n",
    "file.close()\n"
   ]
  },
  {
   "cell_type": "code",
   "execution_count": null,
   "id": "f42237d4",
   "metadata": {
    "vscode": {
     "languageId": "html"
    }
   },
   "outputs": [],
   "source": [
    "for i in range(len(ipv4Split)):\n",
    "   print(f'Address: {ipv4Split[i][0]:<20} mask: {ipv4Split[i][1]:<20}')\n"
   ]
  },
  {
   "cell_type": "code",
   "execution_count": null,
   "id": "29164907",
   "metadata": {
    "vscode": {
     "languageId": "html"
    }
   },
   "outputs": [],
   "source": [
    "IPOnly = []\n",
    "for i in range(len(ipv4Split)):\n",
    "    IPOnly.append(ipv4Split[i][0])\n",
    "\n",
    "IPOnly\n"
   ]
  },
  {
   "cell_type": "code",
   "execution_count": null,
   "id": "f9c362a5",
   "metadata": {
    "vscode": {
     "languageId": "html"
    }
   },
   "outputs": [],
   "source": [
    "IPOnly = sorted(IPOnly, key=ipaddress.IPv4Address)\n",
    "\n",
    "IPOnly\n"
   ]
  },
  {
   "cell_type": "code",
   "execution_count": null,
   "id": "69de0f43",
   "metadata": {
    "vscode": {
     "languageId": "html"
    }
   },
   "outputs": [],
   "source": [
    "ipv4 = sorted(ipv4, key=ipaddress.IPv4Network)\n",
    "\n",
    "ipv4\n"
   ]
  },
  {
   "cell_type": "code",
   "execution_count": null,
   "id": "c28970d7",
   "metadata": {},
   "outputs": [],
   "source": []
  }
 ],
 "metadata": {
  "kernelspec": {
   "display_name": "Python 3 (ipykernel)",
   "language": "python",
   "name": "python3"
  },
  "language_info": {
   "codemirror_mode": {
    "name": "ipython",
    "version": 3
   },
   "file_extension": ".py",
   "mimetype": "text/x-python",
   "name": "python",
   "nbconvert_exporter": "python",
   "pygments_lexer": "ipython3",
   "version": "3.10.2"
  }
 },
 "nbformat": 4,
 "nbformat_minor": 5
}
