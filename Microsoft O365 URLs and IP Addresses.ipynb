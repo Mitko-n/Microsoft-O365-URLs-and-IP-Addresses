{
 "cells": [
  {
   "cell_type": "markdown",
   "id": "e29fb749-236a-4e27-9272-2ce9b86f49e9",
   "metadata": {},
   "source": [
    "# Download from Microsoft O365 domains, IP addresses and ports.\n",
    "Read JSON formated file to DICTION.\n",
    "Extract URLs and IP Addresses.\n",
    "Remove duplicates.\n",
    "Write in file."
   ]
  },
  {
   "cell_type": "code",
   "execution_count": null,
   "id": "a2c0b7f0-53e2-4b85-a4a3-17225d5291b5",
   "metadata": {},
   "outputs": [],
   "source": [
    "import requests\n",
    "import json\n",
    "import ipaddress"
   ]
  },
  {
   "cell_type": "code",
   "execution_count": 49,
   "id": "8831ba6e",
   "metadata": {},
   "outputs": [
    {
     "data": {
      "text/plain": [
       "40636"
      ]
     },
     "execution_count": 49,
     "metadata": {},
     "output_type": "execute_result"
    }
   ],
   "source": [
    "url = \"https://endpoints.office.com/endpoints/worldwide?clientrequestid=b10c5ed1-bad1-445f-b386-b919946339a7\"\n",
    "r = requests.get(url, allow_redirects=True)\n",
    "open(\"365.json\", \"wb\").write(r.content)"
   ]
  },
  {
   "cell_type": "code",
   "execution_count": 50,
   "id": "fd74ceed-7ae1-42c8-997e-d85e2fa0dac2",
   "metadata": {},
   "outputs": [],
   "source": [
    "f = open(\"365.json\")\n",
    "data = json.load(f)\n",
    "f.close()"
   ]
  },
  {
   "cell_type": "markdown",
   "id": "e86c511c",
   "metadata": {},
   "source": [
    "data"
   ]
  },
  {
   "cell_type": "code",
   "execution_count": null,
   "id": "1d616db1",
   "metadata": {},
   "outputs": [],
   "source": [
    "# ServiceArea\n",
    "service_area = []\n",
    "for item in data:\n",
    "    if \"serviceArea\" in item and item[\"serviceArea\"] not in service_area:\n",
    "        service_area.append(item[\"serviceArea\"])\n",
    "\n",
    "service_area"
   ]
  },
  {
   "cell_type": "code",
   "execution_count": null,
   "id": "53a17107",
   "metadata": {},
   "outputs": [],
   "source": [
    "# Categories\n",
    "cat = []\n",
    "for item in data:\n",
    "    if \"category\" in item and item[\"category\"] not in cat:\n",
    "        cat.append(item[\"category\"])\n",
    "\n",
    "cat"
   ]
  },
  {
   "cell_type": "code",
   "execution_count": null,
   "id": "5930dbb4",
   "metadata": {},
   "outputs": [],
   "source": [
    "# ServiceAreaaNames\n",
    "service_area_name = []\n",
    "for item in data:\n",
    "    if \"serviceAreaDisplayName\" in item and item[\"serviceAreaDisplayName\"] not in service_area_name:\n",
    "        service_area_name.append(item[\"serviceAreaDisplayName\"])\n",
    "\n",
    "service_area_name"
   ]
  },
  {
   "cell_type": "code",
   "execution_count": null,
   "id": "8f00fe9f",
   "metadata": {},
   "outputs": [],
   "source": [
    "url = []\n",
    "for item in data:\n",
    "    if \"urls\" in item and item[\"required\"] == True and item[\"category\"] in [\"Allow\", \"Optimize\"]:\n",
    "        for n in item[\"urls\"]:\n",
    "            url.append(n)"
   ]
  },
  {
   "cell_type": "code",
   "execution_count": null,
   "id": "06547676",
   "metadata": {},
   "outputs": [],
   "source": [
    "url = []\n",
    "for item in data:\n",
    "    if (\"urls\" in item and item[\"required\"] == True and item[\"category\"] in [\"Allow\", \"Optimize\"] and item[\"serviceArea\"] == \"Exchange\"):\n",
    "        for n in item[\"urls\"]:\n",
    "            url.append(n)\n"
   ]
  },
  {
   "cell_type": "code",
   "execution_count": null,
   "id": "aa3e9844",
   "metadata": {},
   "outputs": [],
   "source": [
    "ip = []\n",
    "for item in data:\n",
    "    if \"ips\" in item and item[\"required\"] == True and item[\"category\"] in [\"Allow\", \"Optimize\"]:\n",
    "        for n in item[\"ips\"]:\n",
    "            ip.append(n)"
   ]
  },
  {
   "cell_type": "code",
   "execution_count": null,
   "id": "f89ee685",
   "metadata": {},
   "outputs": [],
   "source": [
    "url = []\n",
    "for item in data:\n",
    "    if (\"urls\" in item and item[\"required\"] == True and item[\"category\"] in [\"Allow\", \"Optimize\"] and item[\"serviceArea\"] == \"Exchange\"):\n",
    "        for n in item[\"urls\"]:\n",
    "            url.append(n)\n"
   ]
  },
  {
   "cell_type": "code",
   "execution_count": null,
   "id": "53129383",
   "metadata": {},
   "outputs": [],
   "source": [
    "url = []\n",
    "for item in data:\n",
    "    if \"urls\" in item and item[\"required\"] == True:\n",
    "        for n in item[\"urls\"]:\n",
    "            url.append(n)"
   ]
  },
  {
   "cell_type": "code",
   "execution_count": null,
   "id": "6dfb4a63",
   "metadata": {},
   "outputs": [],
   "source": [
    "# Extract Microsoft Teams IP Addresses\n",
    "ip = []\n",
    "for item in data:\n",
    "    if (\"ips\" in item and item[\"required\"] == True and item[\"serviceAreaDisplayName\"].__contains__(\"Teams\") and\n",
    "            (item[\"category\"] == \"Allow\" or item[\"category\"] == \"Optimize\")):\n",
    "        for n in item[\"ips\"]:\n",
    "            ip.append(n)\n"
   ]
  },
  {
   "cell_type": "code",
   "execution_count": null,
   "id": "2e0e118d",
   "metadata": {},
   "outputs": [],
   "source": [
    "# Extract Microsoft Teams IP Addresses\n",
    "ip = []\n",
    "for item in data:\n",
    "    if \"ips\" in item and item[\"required\"] == True:\n",
    "        for n in item[\"ips\"]:\n",
    "            ip.append(n)"
   ]
  },
  {
   "cell_type": "code",
   "execution_count": null,
   "id": "4598656e",
   "metadata": {},
   "outputs": [],
   "source": [
    "url.sort()\n",
    "# url = list(set(url)) #remove duplicates\n",
    "\n",
    "url"
   ]
  },
  {
   "cell_type": "code",
   "execution_count": null,
   "id": "352dfa4f",
   "metadata": {},
   "outputs": [],
   "source": [
    "file = open(\"url.txt\", \"w\")\n",
    "for items in url:\n",
    "    file.writelines(items + \"\\n\")\n",
    "file.close()"
   ]
  },
  {
   "cell_type": "markdown",
   "id": "b96dd320",
   "metadata": {},
   "source": [
    "### Remove ipv6 Addresses       "
   ]
  },
  {
   "cell_type": "code",
   "execution_count": null,
   "id": "eb57b14b",
   "metadata": {},
   "outputs": [],
   "source": [
    "# Remove IPv6 and Duplicates\n",
    "ipv4 = []\n",
    "for item in ip:\n",
    "    if not \":\" in item and item not in ipv4:\n",
    "        ipv4.append(item)\n",
    "ipv4"
   ]
  },
  {
   "cell_type": "markdown",
   "id": "78ac36c8",
   "metadata": {},
   "source": [
    "ipv4 = [x for x  in ip if \":\" not in x]\n",
    "ipv4"
   ]
  },
  {
   "cell_type": "markdown",
   "id": "fcd2855f",
   "metadata": {},
   "source": [
    "ipv4 = list(set(ipv4)) #remove duplicates"
   ]
  },
  {
   "cell_type": "code",
   "execution_count": null,
   "id": "a7420b8a",
   "metadata": {},
   "outputs": [],
   "source": [
    "ipv4 = sorted(ipv4, key=ipaddress.IPv4Network)\n",
    "\n",
    "# ipv4"
   ]
  },
  {
   "cell_type": "code",
   "execution_count": 48,
   "id": "8d14261d",
   "metadata": {},
   "outputs": [
    {
     "data": {
      "text/plain": [
       "[['13.107.6.152', '31'],\n",
       " ['13.107.6.171', '32'],\n",
       " ['13.107.18.10', '31'],\n",
       " ['13.107.18.15', '32'],\n",
       " ['13.107.64.0', '18'],\n",
       " ['13.107.128.0', '22'],\n",
       " ['13.107.136.0', '22'],\n",
       " ['13.107.140.6', '32'],\n",
       " ['20.190.128.0', '18'],\n",
       " ['23.103.160.0', '20'],\n",
       " ['40.92.0.0', '15'],\n",
       " ['40.96.0.0', '13'],\n",
       " ['40.104.0.0', '15'],\n",
       " ['40.107.0.0', '16'],\n",
       " ['40.108.128.0', '17'],\n",
       " ['40.126.0.0', '18'],\n",
       " ['52.96.0.0', '14'],\n",
       " ['52.100.0.0', '14'],\n",
       " ['52.104.0.0', '14'],\n",
       " ['52.108.0.0', '14'],\n",
       " ['52.112.0.0', '14'],\n",
       " ['52.120.0.0', '14'],\n",
       " ['52.238.78.88', '32'],\n",
       " ['52.238.106.116', '32'],\n",
       " ['52.238.119.141', '32'],\n",
       " ['52.244.37.168', '32'],\n",
       " ['52.244.160.207', '32'],\n",
       " ['52.244.203.72', '32'],\n",
       " ['52.244.207.172', '32'],\n",
       " ['52.244.223.198', '32'],\n",
       " ['52.247.150.191', '32'],\n",
       " ['104.47.0.0', '17'],\n",
       " ['104.146.128.0', '17'],\n",
       " ['131.253.33.215', '32'],\n",
       " ['132.245.0.0', '16'],\n",
       " ['150.171.32.0', '22'],\n",
       " ['150.171.40.0', '22'],\n",
       " ['204.79.197.215', '32']]"
      ]
     },
     "execution_count": 48,
     "metadata": {},
     "output_type": "execute_result"
    }
   ],
   "source": [
    "ipv4Split = [x.split(\"/\") for x in ipv4]\n",
    "\n",
    "ipv4Split"
   ]
  },
  {
   "cell_type": "code",
   "execution_count": null,
   "id": "cea67fdf",
   "metadata": {},
   "outputs": [],
   "source": [
    "file = open(\"ip.txt\", \"w\")\n",
    "for items in ip:\n",
    "    file.writelines(items + \"\\n\")\n",
    "file.close()"
   ]
  },
  {
   "cell_type": "code",
   "execution_count": null,
   "id": "8dcbd863",
   "metadata": {},
   "outputs": [],
   "source": [
    "file = open(\"ipv4.txt\", \"w\")\n",
    "for items in ipv4:\n",
    "    file.writelines(items + \"\\n\")\n",
    "file.close()"
   ]
  },
  {
   "cell_type": "code",
   "execution_count": null,
   "id": "91f37c8a",
   "metadata": {},
   "outputs": [],
   "source": [
    "for item in ipv4Split:\n",
    "    mask = [0, 0, 0, 0]\n",
    "    for i in range(int(item[1])):\n",
    "        mask[int(i / 8)] = mask[int(i / 8)] + (1 << (7 - i % 8))\n",
    "    item[1] = mask"
   ]
  },
  {
   "cell_type": "code",
   "execution_count": null,
   "id": "4fb57bd5",
   "metadata": {},
   "outputs": [],
   "source": [
    "for item in ipv4Split:\n",
    "    item[1] = \".\".join(str(e) for e in item[1])"
   ]
  },
  {
   "cell_type": "code",
   "execution_count": null,
   "id": "2b33ddf5",
   "metadata": {},
   "outputs": [],
   "source": [
    "# ipv4Split"
   ]
  },
  {
   "cell_type": "code",
   "execution_count": null,
   "id": "2b8e36dd",
   "metadata": {},
   "outputs": [],
   "source": [
    "file = open(\"ipv4Split.txt\", \"w\")\n",
    "for items in ipv4Split:\n",
    "    file.writelines(str(items) + \"\\n\")\n",
    "file.close()"
   ]
  },
  {
   "cell_type": "code",
   "execution_count": null,
   "id": "f42237d4",
   "metadata": {},
   "outputs": [],
   "source": [
    "# for i in range(len(ipv4Split)):\n",
    "#    print(f'Address: {ipv4Split[i][0]:<20} mask: {ipv4Split[i][1]:<20}')"
   ]
  },
  {
   "cell_type": "code",
   "execution_count": null,
   "id": "29164907",
   "metadata": {},
   "outputs": [],
   "source": [
    "IPOnly = []\n",
    "for i in range(len(ipv4Split)):\n",
    "    IPOnly.append(ipv4Split[i][0])\n",
    "\n",
    "# IPOnly"
   ]
  },
  {
   "cell_type": "code",
   "execution_count": null,
   "id": "f9c362a5",
   "metadata": {},
   "outputs": [],
   "source": [
    "IPOnly = sorted(IPOnly, key=ipaddress.IPv4Address)\n",
    "\n",
    "# IPOnly"
   ]
  },
  {
   "cell_type": "code",
   "execution_count": null,
   "id": "69de0f43",
   "metadata": {},
   "outputs": [],
   "source": [
    "ipv4 = sorted(ipv4, key=ipaddress.IPv4Network)\n",
    "\n",
    "# ipv4"
   ]
  },
  {
   "cell_type": "code",
   "execution_count": null,
   "id": "b375197d",
   "metadata": {},
   "outputs": [],
   "source": [
    "ipv4"
   ]
  },
  {
   "cell_type": "code",
   "execution_count": null,
   "id": "c28970d7",
   "metadata": {},
   "outputs": [],
   "source": []
  }
 ],
 "metadata": {
  "kernelspec": {
   "display_name": "Python 3 (ipykernel)",
   "language": "python",
   "name": "python3"
  },
  "language_info": {
   "codemirror_mode": {
    "name": "ipython",
    "version": 3
   },
   "file_extension": ".py",
   "mimetype": "text/x-python",
   "name": "python",
   "nbconvert_exporter": "python",
   "pygments_lexer": "ipython3",
   "version": "3.10.2"
  }
 },
 "nbformat": 4,
 "nbformat_minor": 5
}
