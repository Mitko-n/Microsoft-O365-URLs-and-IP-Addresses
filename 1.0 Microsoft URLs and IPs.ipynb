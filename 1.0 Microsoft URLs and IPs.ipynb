{
 "cells": [
  {
   "cell_type": "markdown",
   "id": "f18a3bf4",
   "metadata": {},
   "source": [
    "## Code from Microsoft Site \n",
    "#### https://docs.microsoft.com/en-us/microsoft-365/enterprise/microsoft-365-ip-web-service?view=o365-worldwide\n",
    "#### IP Addresses are Sorted Correctly"
   ]
  },
  {
   "cell_type": "code",
   "execution_count": 1,
   "id": "5bc0e042",
   "metadata": {},
   "outputs": [],
   "source": [
    "import json\n",
    "from pathlib import Path\n",
    "import urllib.request\n",
    "import uuid\n",
    "import ipaddress\n"
   ]
  },
  {
   "cell_type": "code",
   "execution_count": 2,
   "id": "9c8f6b29",
   "metadata": {},
   "outputs": [],
   "source": [
    "# helper to call the webservice and parse the response\n",
    "def webApiGet(methodName, instanceName, clientRequestId):\n",
    "    ws = \"https://endpoints.office.com\"\n",
    "    requestPath = f\"{ws}/{methodName}/{instanceName}?clientRequestId={clientRequestId}\"\n",
    "    request = urllib.request.Request(requestPath)\n",
    "    with urllib.request.urlopen(request) as response:\n",
    "        return json.loads(response.read().decode())\n"
   ]
  },
  {
   "cell_type": "code",
   "execution_count": 3,
   "id": "5060d899",
   "metadata": {},
   "outputs": [],
   "source": [
    "datapath = Path('1.1 Microsoft URLs and IPs latestversion.txt')\n",
    "# fetch client ID and version if data exists; otherwise create new file\n",
    "if datapath.exists():\n",
    "    with open(datapath, 'r') as fin:\n",
    "        clientRequestId = fin.readline().strip()\n",
    "        latestVersion = fin.readline().strip()\n",
    "else:\n",
    "    clientRequestId = str(uuid.uuid4())\n",
    "    latestVersion = '0000000000'\n",
    "    with open(datapath, 'w') as fout:\n",
    "        fout.write(clientRequestId + '\\n' + latestVersion)\n"
   ]
  },
  {
   "cell_type": "code",
   "execution_count": 4,
   "id": "709f5a98",
   "metadata": {},
   "outputs": [
    {
     "name": "stdout",
     "output_type": "stream",
     "text": [
      "\n",
      "New version of Office 365 worldwide commercial service instance endpoints detected\n",
      "\n",
      "IPv4 Firewall IP Address Ranges\n",
      "13.107.6.152/31, 13.107.6.171/32, 13.107.18.10/31, 13.107.18.15/32, 13.107.64.0/18, 13.107.128.0/22, 13.107.136.0/22, 13.107.140.6/32, 20.190.128.0/18, 23.103.160.0/20, 40.92.0.0/15, 40.96.0.0/13, 40.104.0.0/15, 40.107.0.0/16, 40.108.128.0/17, 40.126.0.0/18, 52.96.0.0/14, 52.100.0.0/14, 52.104.0.0/14, 52.108.0.0/14, 52.112.0.0/14, 52.120.0.0/14, 52.238.78.88/32, 52.238.106.116/32, 52.238.119.141/32, 52.244.37.168/32, 52.244.160.207/32, 52.244.203.72/32, 52.244.207.172/32, 52.244.223.198/32, 52.247.150.191/32, 104.47.0.0/17, 104.146.128.0/17, 131.253.33.215/32, 132.245.0.0/16, 150.171.32.0/22, 150.171.40.0/22, 204.79.197.215/32\n",
      "\n",
      "URLs for Proxy Server\n",
      "*.auth.microsoft.com,*.broadcast.skype.com,*.compliance.microsoft.com,*.lync.com,*.mail.protection.outlook.com,*.msftidentity.com,*.msidentity.com,*.officeapps.live.com,*.online.office.com,*.outlook.office.com,*.protection.office.com,*.protection.outlook.com,*.security.microsoft.com,*.sharepoint.com,*.skypeforbusiness.com,*.teams.microsoft.com,account.activedirectory.windowsazure.com,account.office.net,accounts.accesscontrol.windows.net,adminwebservice.microsoftonline.com,api.passwordreset.microsoftonline.com,autologon.microsoftazuread-sso.com,becws.microsoftonline.com,broadcast.skype.com,ccs.login.microsoftonline.com,clientconfig.microsoftonline-p.net,companymanager.microsoftonline.com,compliance.microsoft.com,defender.microsoft.com,device.login.microsoftonline.com,graph.microsoft.com,graph.windows.net,login-us.microsoftonline.com,login.microsoft.com,login.microsoftonline-p.com,login.microsoftonline.com,login.windows.net,logincert.microsoftonline.com,loginex.microsoftonline.com,nexus.microsoftonline-p.com,office.live.com,outlook.office.com,outlook.office365.com,passwordreset.microsoftonline.com,protection.office.com,provisioningapi.microsoftonline.com,security.microsoft.com,smtp.office365.com,teams.microsoft.com\n"
     ]
    }
   ],
   "source": [
    "# call version method to check the latest version, and pull new data if version number is different\n",
    "\n",
    "version = webApiGet('version', 'Worldwide', clientRequestId)\n",
    "\n",
    "if version['latest'] > latestVersion:\n",
    "    print('\\nNew version of Office 365 worldwide commercial service instance endpoints detected')\n",
    "\n",
    "    # write the new version number to the data file\n",
    "    with open(datapath, 'w') as fout:\n",
    "        fout.write(clientRequestId + '\\n' + version['latest'])\n",
    "\n",
    "    # invoke endpoints method to get the new data\n",
    "    endpointSets = webApiGet('endpoints', 'Worldwide', clientRequestId)\n",
    "\n",
    "    flatIps = []\n",
    "    for endpointSet in endpointSets:\n",
    "        if endpointSet['category'] in ('Optimize', 'Allow'):\n",
    "            ips = endpointSet['ips'] if 'ips' in endpointSet else []\n",
    "            ip4s = [ip for ip in ips if '.' in ip]\n",
    "            flatIps.extend([ip for ip in ip4s])\n",
    "\n",
    "    print('\\nIPv4 Firewall IP Address Ranges')\n",
    "    print(', '.join(sorted(set(flatIps), key=ipaddress.IPv4Network)))                        # IP Address Sort\n",
    "\n",
    "    with open('1.2 Microsoft IPs.txt', 'w') as output_file:\n",
    "        output_file.write('\\n'.join(sorted(set(flatIps), key=ipaddress.IPv4Network)))       # IP Address Sort\n",
    "\n",
    "    flatUrls = []\n",
    "    for endpointSet in endpointSets:\n",
    "        if endpointSet['category'] in ('Optimize', 'Allow'):\n",
    "            urls = endpointSet['urls'] if 'urls' in endpointSet else []\n",
    "            flatUrls.extend([url for url in urls])\n",
    "\n",
    "    print('\\nURLs for Proxy Server')\n",
    "    print(','.join(sorted(set(flatUrls))))\n",
    "\n",
    "    with open('1.3 Microsoft URLs.txt', 'w') as output_file:\n",
    "        output_file.write('\\n'.join(sorted(set(flatUrls))))\n",
    "\n",
    "else:\n",
    "    print('Office 365 worldwide commercial service instance endpoints are up-to-date')\n"
   ]
  }
 ],
 "metadata": {
  "kernelspec": {
   "display_name": "Python 3.10.5 64-bit",
   "language": "python",
   "name": "python3"
  },
  "language_info": {
   "codemirror_mode": {
    "name": "ipython",
    "version": 3
   },
   "file_extension": ".py",
   "mimetype": "text/x-python",
   "name": "python",
   "nbconvert_exporter": "python",
   "pygments_lexer": "ipython3",
   "version": "3.10.5"
  },
  "vscode": {
   "interpreter": {
    "hash": "52634da84371cba311ea128a5ea7cdc41ff074b781779e754b270ff9f8153cee"
   }
  }
 },
 "nbformat": 4,
 "nbformat_minor": 5
}
