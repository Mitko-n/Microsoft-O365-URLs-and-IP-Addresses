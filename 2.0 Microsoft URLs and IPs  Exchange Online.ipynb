{
 "cells": [
  {
   "cell_type": "markdown",
   "id": "f18a3bf4",
   "metadata": {},
   "source": [
    "## Code from Microsoft Site \n",
    "#### https://docs.microsoft.com/en-us/microsoft-365/enterprise/microsoft-365-ip-web-service?view=o365-worldwide\n",
    "#### IP Addresses are Sorted Correctly"
   ]
  },
  {
   "cell_type": "code",
   "execution_count": 1,
   "id": "5bc0e042",
   "metadata": {},
   "outputs": [],
   "source": [
    "import json\n",
    "from pathlib import Path\n",
    "import urllib.request\n",
    "import uuid\n",
    "import ipaddress\n"
   ]
  },
  {
   "cell_type": "code",
   "execution_count": 2,
   "id": "9c8f6b29",
   "metadata": {},
   "outputs": [],
   "source": [
    "# helper to call the webservice and parse the response\n",
    "def webApiGet(methodName, instanceName, clientRequestId):\n",
    "    ws = \"https://endpoints.office.com\"\n",
    "    requestPath = f\"{ws}/{methodName}/{instanceName}?clientRequestId={clientRequestId}\"\n",
    "    request = urllib.request.Request(requestPath)\n",
    "    with urllib.request.urlopen(request) as response:\n",
    "        return json.loads(response.read().decode())\n"
   ]
  },
  {
   "cell_type": "code",
   "execution_count": 3,
   "id": "5060d899",
   "metadata": {},
   "outputs": [],
   "source": [
    "datapath = Path('2.1 Microsoft URLs and IPs  Exchange Online exchange.txt')\n",
    "# fetch client ID and version if data exists; otherwise create new file\n",
    "if datapath.exists():\n",
    "    with open(datapath, 'r') as fin:\n",
    "        clientRequestId = fin.readline().strip()\n",
    "        latestVersion = fin.readline().strip()\n",
    "else:\n",
    "    clientRequestId = str(uuid.uuid4())\n",
    "    latestVersion = '0000000000'\n",
    "    with open(datapath, 'w') as fout:\n",
    "        fout.write(clientRequestId + '\\n' + latestVersion)\n"
   ]
  },
  {
   "cell_type": "code",
   "execution_count": 4,
   "id": "709f5a98",
   "metadata": {},
   "outputs": [
    {
     "name": "stdout",
     "output_type": "stream",
     "text": [
      "\n",
      "New version of Office 365 worldwide commercial service instance endpoints detected\n",
      "\n",
      "IPv4 Firewall IP Address Ranges for Excahange Online\n",
      "13.107.6.152/31, 13.107.18.10/31, 13.107.128.0/22, 23.103.160.0/20, 40.92.0.0/15, 40.96.0.0/13, 40.104.0.0/15, 40.107.0.0/16, 52.96.0.0/14, 52.100.0.0/14, 52.238.78.88/32, 104.47.0.0/17, 131.253.33.215/32, 132.245.0.0/16, 150.171.32.0/22, 204.79.197.215/32\n",
      "\n",
      "URLs for Proxy Server  for Excahange Online\n",
      "*.mail.protection.outlook.com,*.outlook.office.com,*.protection.outlook.com,outlook.office.com,outlook.office365.com,smtp.office365.com\n"
     ]
    }
   ],
   "source": [
    "# call version method to check the latest version, and pull new data if version number is different\n",
    "\n",
    "version = webApiGet('version', 'Worldwide', clientRequestId)\n",
    "\n",
    "if version['latest'] > latestVersion:\n",
    "    print('\\nNew version of Office 365 worldwide commercial service instance endpoints detected')\n",
    "\n",
    "    # write the new version number to the data file\n",
    "    with open(datapath, 'w') as fout:\n",
    "        fout.write(clientRequestId + '\\n' + version['latest'])\n",
    "\n",
    "    # invoke endpoints method to get the new data\n",
    "    endpointSets = webApiGet('endpoints', 'Worldwide', clientRequestId)\n",
    "\n",
    "    flatIps = []\n",
    "    for endpointSet in endpointSets:\n",
    "        if endpointSet['category'] in ('Optimize', 'Allow') and endpointSet['serviceArea'] =='Exchange':\n",
    "            ips = endpointSet['ips'] if 'ips' in endpointSet else []\n",
    "            ip4s = [ip for ip in ips if '.' in ip]\n",
    "            flatIps.extend([ip for ip in ip4s])\n",
    "\n",
    "    print('\\nIPv4 Firewall IP Address Ranges for Excahange Online')\n",
    "    print(', '.join(sorted(set(flatIps), key=ipaddress.IPv4Network)))                        # IP Address Sort\n",
    "\n",
    "    with open('2.2 Microsoft IPs Exchange Online.txt', 'w') as output_file:\n",
    "        output_file.write('\\n'.join(sorted(set(flatIps), key=ipaddress.IPv4Network)))       # IP Address Seort\n",
    "\n",
    "    flatUrls = []\n",
    "    for endpointSet in endpointSets:\n",
    "        if endpointSet['category'] in ('Optimize', 'Allow') and endpointSet['serviceArea'] =='Exchange':\n",
    "            urls = endpointSet['urls'] if 'urls' in endpointSet else []\n",
    "            flatUrls.extend([url for url in urls])\n",
    "\n",
    "    print('\\nURLs for Proxy Server  for Excahange Online')\n",
    "    print(','.join(sorted(set(flatUrls))))\n",
    "\n",
    "    with open('2.3 Microsoft URLs Exchange Online.txt', 'w') as output_file:\n",
    "        output_file.write('\\n'.join(sorted(set(flatUrls))))\n",
    "\n",
    "else:\n",
    "    print('Office 365 worldwide commercial service instance endpoints are up-to-date')\n"
   ]
  }
 ],
 "metadata": {
  "kernelspec": {
   "display_name": "Python 3.10.5 64-bit",
   "language": "python",
   "name": "python3"
  },
  "language_info": {
   "codemirror_mode": {
    "name": "ipython",
    "version": 3
   },
   "file_extension": ".py",
   "mimetype": "text/x-python",
   "name": "python",
   "nbconvert_exporter": "python",
   "pygments_lexer": "ipython3",
   "version": "3.10.5"
  },
  "vscode": {
   "interpreter": {
    "hash": "52634da84371cba311ea128a5ea7cdc41ff074b781779e754b270ff9f8153cee"
   }
  }
 },
 "nbformat": 4,
 "nbformat_minor": 5
}
