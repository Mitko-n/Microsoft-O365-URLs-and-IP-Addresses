{
 "cells": [
  {
   "cell_type": "code",
   "execution_count": null,
   "metadata": {},
   "outputs": [],
   "source": [
    "import json\n",
    "import tempfile\n",
    "from pathlib import Path\n",
    "import urllib.request\n",
    "import uuid\n"
   ]
  },
  {
   "cell_type": "code",
   "execution_count": null,
   "metadata": {},
   "outputs": [],
   "source": [
    "# helper to call the webservice and parse the response\n",
    "def webApiGet(methodName, instanceName, clientRequestId):\n",
    "    ws = \"https://endpoints.office.com\"\n",
    "    requestPath = ws + '/' + methodName + '/' + instanceName + '?clientRequestId=' + clientRequestId\n",
    "    request = urllib.request.Request(requestPath)\n",
    "    with urllib.request.urlopen(request) as response:\n",
    "        return json.loads(response.read().decode())\n"
   ]
  },
  {
   "cell_type": "code",
   "execution_count": null,
   "metadata": {},
   "outputs": [],
   "source": [
    "\n",
    "# path where client ID and latest version number will be stored\n",
    "#datapath = Path(tempfile.gettempdir() + '/endpoints_clientid_latestversion.txt')\n",
    "datapath = Path('endpoints_clientid_latestversion.txt')\n",
    "# fetch client ID and version if data exists; otherwise create new file\n",
    "if datapath.exists():\n",
    "    with open(datapath, 'r') as fin:\n",
    "        clientRequestId = fin.readline().strip()\n",
    "        latestVersion = fin.readline().strip()\n",
    "else:\n",
    "    clientRequestId = str(uuid.uuid4())\n",
    "    latestVersion = '0000000000'\n",
    "    with open(datapath, 'w') as fout:\n",
    "        fout.write(clientRequestId + '\\n' + latestVersion)\n"
   ]
  },
  {
   "cell_type": "code",
   "execution_count": null,
   "metadata": {},
   "outputs": [],
   "source": [
    "\n",
    "# call version method to check the latest version, and pull new data if version number is different\n",
    "version = webApiGet('version', 'Worldwide', clientRequestId)\n",
    "if version['latest'] > latestVersion:\n",
    "    print('New version of Office 365 worldwide commercial service instance endpoints detected')\n",
    "    # write the new version number to the data file\n",
    "    with open(datapath, 'w') as fout:\n",
    "        fout.write(clientRequestId + '\\n' + version['latest'])\n",
    "    # invoke endpoints method to get the new data\n",
    "    endpointSets = webApiGet('endpoints', 'Worldwide', clientRequestId)\n",
    "\n",
    "\n",
    "    # filter results for Allow and Optimize endpoints, and transform these into tuples with port and category\n",
    "    flatUrls = []\n",
    "    for endpointSet in endpointSets:\n",
    "        if endpointSet['category'] in ('Optimize', 'Allow'):\n",
    "            category = endpointSet['category']\n",
    "            urls = endpointSet['urls'] if 'urls' in endpointSet else []\n",
    "            tcpPorts = endpointSet['tcpPorts'] if 'tcpPorts' in endpointSet else ''\n",
    "            udpPorts = endpointSet['udpPorts'] if 'udpPorts' in endpointSet else ''\n",
    "            flatUrls.extend([(category, url, tcpPorts, udpPorts) for url in urls])\n",
    "    flatIps = []\n",
    "\n",
    "    for endpointSet in endpointSets:\n",
    "        if endpointSet['category'] in ('Optimize', 'Allow'):\n",
    "            ips = endpointSet['ips'] if 'ips' in endpointSet else []\n",
    "            category = endpointSet['category']\n",
    "            # IPv4 strings have dots while IPv6 strings have colons\n",
    "            ip4s = [ip for ip in ips if '.' in ip]\n",
    "            tcpPorts = endpointSet['tcpPorts'] if 'tcpPorts' in endpointSet else ''\n",
    "            udpPorts = endpointSet['udpPorts'] if 'udpPorts' in endpointSet else ''\n",
    "            flatIps.extend([(category, ip, tcpPorts, udpPorts) for ip in ip4s])\n",
    "            \n",
    "    print('IPv4 Firewall IP Address Ranges')\n",
    "    print(','.join(sorted(set([ip for (category, ip, tcpPorts, udpPorts) in flatIps]))))\n",
    "    print('URLs for Proxy Server')\n",
    "    print(','.join(sorted(set([url for (category, url, tcpPorts, udpPorts) in flatUrls]))))\n",
    "\n",
    "    # TODO send mail (e.g. with smtplib/email modules) with new endpoints data\n",
    "else:\n",
    "    print('Office 365 worldwide commercial service instance endpoints are up-to-date')"
   ]
  },
  {
   "cell_type": "code",
   "execution_count": null,
   "metadata": {},
   "outputs": [],
   "source": []
  }
 ],
 "metadata": {
  "interpreter": {
   "hash": "38740d3277777e2cd7c6c2cc9d8addf5118fdf3f82b1b39231fd12aeac8aee8b"
  },
  "kernelspec": {
   "display_name": "Python 3.10.2 64-bit",
   "language": "python",
   "name": "python3"
  },
  "language_info": {
   "codemirror_mode": {
    "name": "ipython",
    "version": 3
   },
   "file_extension": ".py",
   "mimetype": "text/x-python",
   "name": "python",
   "nbconvert_exporter": "python",
   "pygments_lexer": "ipython3",
   "version": "3.10.2"
  },
  "orig_nbformat": 4
 },
 "nbformat": 4,
 "nbformat_minor": 2
}
